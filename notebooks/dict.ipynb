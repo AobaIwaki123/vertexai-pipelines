{
 "cells": [
  {
   "cell_type": "code",
   "execution_count": null,
   "metadata": {},
   "outputs": [],
   "source": []
  },
  {
   "cell_type": "code",
   "execution_count": null,
   "metadata": {},
   "outputs": [
    {
     "name": "stdout",
     "output_type": "stream",
     "text": [
      "[{'content': '法令の内容', 'metadata': {'law_name': '法令名', 'law_number': '法令番号'}}]\n"
     ]
    }
   ],
   "source": [
    "retrieved_docs_mock = [\n",
    "  {\n",
    "      \"page_content\": \"法令の内容\",\n",
    "      \"metadata\": {\n",
    "          \"law_name\": \"法令名\",\n",
    "          \"law_number\": \"法令番号\",\n",
    "      },\n",
    "  }\n",
    "]\n",
    "response_docs = []\n",
    "\n",
    "for doc in retrieved_docs_mock:\n",
    "    response_doc = {\n",
    "        \"content\": doc['page_content'],\n",
    "        \"metadata\": doc['metadata'],\n",
    "    }\n",
    "    response_docs.append(response_doc)\n",
    "\n",
    "print(response_docs)"
   ]
  },
  {
   "cell_type": "code",
   "execution_count": 4,
   "metadata": {},
   "outputs": [],
   "source": [
    "# 取得した法令情報をテキストに整形\n",
    "laws_context = \"以下はユーザーの質問に関連する法令情報です:\\n\"\n",
    "laws_context += (\n",
    "    \"ユーザーからの質問に対して、法令をもとに回答してください。\\n\"\n",
    ")\n",
    "laws_context += (\n",
    "    \"この時、参照した法令番号と法令名を明記してください。\\n\\n\"\n",
    ")\n",
    "for law in response_docs:\n",
    "    laws_context += f\"法令名: {law['metadata']['law_name']}\\n\"\n",
    "    laws_context += f\"法令番号: {law['metadata']['law_number']}\\n\"\n",
    "    laws_context += f\"法令内容: {law['content']}\\n\\n\""
   ]
  },
  {
   "cell_type": "code",
   "execution_count": 5,
   "metadata": {},
   "outputs": [
    {
     "name": "stdout",
     "output_type": "stream",
     "text": [
      "以下はユーザーの質問に関連する法令情報です:\n",
      "ユーザーからの質問に対して、法令をもとに回答してください。\n",
      "この時、参照した法令番号と法令名を明記してください。\n",
      "\n",
      "法令名: 法令名\n",
      "法令番号: 法令番号\n",
      "法令内容: 法令の内容\n",
      "\n",
      "\n"
     ]
    }
   ],
   "source": [
    "print(laws_context)"
   ]
  }
 ],
 "metadata": {
  "kernelspec": {
   "display_name": "zenn",
   "language": "python",
   "name": "python3"
  },
  "language_info": {
   "codemirror_mode": {
    "name": "ipython",
    "version": 3
   },
   "file_extension": ".py",
   "mimetype": "text/x-python",
   "name": "python",
   "nbconvert_exporter": "python",
   "pygments_lexer": "ipython3",
   "version": "3.12.9"
  }
 },
 "nbformat": 4,
 "nbformat_minor": 2
}
