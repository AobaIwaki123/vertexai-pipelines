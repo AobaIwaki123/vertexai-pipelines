{
 "cells": [
  {
   "cell_type": "code",
   "execution_count": null,
   "metadata": {},
   "outputs": [],
   "source": []
  },
  {
   "cell_type": "code",
   "execution_count": 4,
   "metadata": {},
   "outputs": [
    {
     "name": "stdout",
     "output_type": "stream",
     "text": [
      "{'content': '法令の内容', 'metadata': {'law_name': '法令名', 'law_number': '法令番号'}}\n"
     ]
    }
   ],
   "source": [
    "retrieved_docs_mock = [\n",
    "  {\n",
    "      \"page_content\": \"法令の内容\",\n",
    "      \"metadata\": {\n",
    "          \"law_name\": \"法令名\",\n",
    "          \"law_number\": \"法令番号\",\n",
    "      },\n",
    "  }\n",
    "]\n",
    "\n",
    "for doc in retrieved_docs_mock:\n",
    "    response_doc = {\n",
    "        \"content\": doc['page_content'],\n",
    "        \"metadata\": doc['metadata'],\n",
    "    }\n",
    "    print(response_doc)\n"
   ]
  }
 ],
 "metadata": {
  "kernelspec": {
   "display_name": "zenn",
   "language": "python",
   "name": "python3"
  },
  "language_info": {
   "codemirror_mode": {
    "name": "ipython",
    "version": 3
   },
   "file_extension": ".py",
   "mimetype": "text/x-python",
   "name": "python",
   "nbconvert_exporter": "python",
   "pygments_lexer": "ipython3",
   "version": "3.12.9"
  }
 },
 "nbformat": 4,
 "nbformat_minor": 2
}
