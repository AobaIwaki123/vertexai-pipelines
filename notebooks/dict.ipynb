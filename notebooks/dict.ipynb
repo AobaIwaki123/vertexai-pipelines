{
 "cells": [
  {
   "cell_type": "code",
   "execution_count": null,
   "metadata": {},
   "outputs": [],
   "source": []
  },
  {
   "cell_type": "code",
   "execution_count": 2,
   "metadata": {},
   "outputs": [
    {
     "name": "stdout",
     "output_type": "stream",
     "text": [
      "{'content': '法令の内容', 'metadata': {'law_name': '法令名', 'law_number': '法令番号'}}\n"
     ]
    }
   ],
   "source": [
    "retrieved_docs_mock = [\n",
    "  {\n",
    "      \"page_content\": \"法令の内容\",\n",
    "      \"metadata\": {\n",
    "          \"law_name\": \"法令名\",\n",
    "          \"law_number\": \"法令番号\",\n",
    "      },\n",
    "  }\n",
    "]\n",
    "\n",
    "for doc in retrieved_docs_mock:\n",
    "    response_doc = {\n",
    "        \"content\": doc['page_content'],\n",
    "        \"metadata\": doc['metadata'],\n",
    "    }\n",
    "    print(response_doc)\n"
   ]
  },
  {
   "cell_type": "code",
   "execution_count": 3,
   "metadata": {},
   "outputs": [
    {
     "ename": "KeyError",
     "evalue": "'content'",
     "output_type": "error",
     "traceback": [
      "\u001b[0;31m---------------------------------------------------------------------------\u001b[0m",
      "\u001b[0;31mKeyError\u001b[0m                                  Traceback (most recent call last)",
      "Cell \u001b[0;32mIn[3], line 12\u001b[0m\n\u001b[1;32m     10\u001b[0m     laws_context \u001b[38;5;241m+\u001b[39m\u001b[38;5;241m=\u001b[39m \u001b[38;5;124mf\u001b[39m\u001b[38;5;124m\"\u001b[39m\u001b[38;5;124m法令名: \u001b[39m\u001b[38;5;132;01m{\u001b[39;00mlaw[\u001b[38;5;124m'\u001b[39m\u001b[38;5;124mmetadata\u001b[39m\u001b[38;5;124m'\u001b[39m][\u001b[38;5;124m'\u001b[39m\u001b[38;5;124mlaw_name\u001b[39m\u001b[38;5;124m'\u001b[39m]\u001b[38;5;132;01m}\u001b[39;00m\u001b[38;5;130;01m\\n\u001b[39;00m\u001b[38;5;124m\"\u001b[39m\n\u001b[1;32m     11\u001b[0m     laws_context \u001b[38;5;241m+\u001b[39m\u001b[38;5;241m=\u001b[39m \u001b[38;5;124mf\u001b[39m\u001b[38;5;124m\"\u001b[39m\u001b[38;5;124m法令番号: \u001b[39m\u001b[38;5;132;01m{\u001b[39;00mlaw[\u001b[38;5;124m'\u001b[39m\u001b[38;5;124mmetadata\u001b[39m\u001b[38;5;124m'\u001b[39m][\u001b[38;5;124m'\u001b[39m\u001b[38;5;124mlaw_number\u001b[39m\u001b[38;5;124m'\u001b[39m]\u001b[38;5;132;01m}\u001b[39;00m\u001b[38;5;130;01m\\n\u001b[39;00m\u001b[38;5;124m\"\u001b[39m\n\u001b[0;32m---> 12\u001b[0m     laws_context \u001b[38;5;241m+\u001b[39m\u001b[38;5;241m=\u001b[39m \u001b[38;5;124mf\u001b[39m\u001b[38;5;124m\"\u001b[39m\u001b[38;5;124m法令内容: \u001b[39m\u001b[38;5;132;01m{\u001b[39;00m\u001b[43mlaw\u001b[49m\u001b[43m[\u001b[49m\u001b[38;5;124;43m'\u001b[39;49m\u001b[38;5;124;43mcontent\u001b[39;49m\u001b[38;5;124;43m'\u001b[39;49m\u001b[43m]\u001b[49m\u001b[38;5;132;01m}\u001b[39;00m\u001b[38;5;130;01m\\n\u001b[39;00m\u001b[38;5;130;01m\\n\u001b[39;00m\u001b[38;5;124m\"\u001b[39m\n\u001b[1;32m     14\u001b[0m \u001b[38;5;28mprint\u001b[39m(laws_context)\n",
      "\u001b[0;31mKeyError\u001b[0m: 'content'"
     ]
    }
   ],
   "source": [
    "# 取得した法令情報をテキストに整形\n",
    "laws_context = \"以下はユーザーの質問に関連する法令情報です:\\n\"\n",
    "laws_context += (\n",
    "    \"ユーザーからの質問に対して、法令をもとに回答してください。\\n\"\n",
    ")\n",
    "laws_context += (\n",
    "    \"この時、参照した法令番号と法令名を明記してください。\\n\\n\"\n",
    ")\n",
    "for law in retrieved_docs_mock:\n",
    "    laws_context += f\"法令名: {law['metadata']['law_name']}\\n\"\n",
    "    laws_context += f\"法令番号: {law['metadata']['law_number']}\\n\"\n",
    "    laws_context += f\"法令内容: {law['content']}\\n\\n\"\n",
    "\n",
    "print(laws_context)"
   ]
  }
 ],
 "metadata": {
  "kernelspec": {
   "display_name": "zenn",
   "language": "python",
   "name": "python3"
  },
  "language_info": {
   "codemirror_mode": {
    "name": "ipython",
    "version": 3
   },
   "file_extension": ".py",
   "mimetype": "text/x-python",
   "name": "python",
   "nbconvert_exporter": "python",
   "pygments_lexer": "ipython3",
   "version": "3.12.9"
  }
 },
 "nbformat": 4,
 "nbformat_minor": 2
}
