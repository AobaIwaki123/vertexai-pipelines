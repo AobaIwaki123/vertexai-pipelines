{
 "cells": [
  {
   "cell_type": "code",
   "execution_count": null,
   "metadata": {},
   "outputs": [],
   "source": [
    "import vertexai\n",
    "from vertexai.preview.generative_models import GenerativeModel\n",
    "\n",
    "PROJECT_ID = \"project-id\"\n",
    "LOCATION = \"asia-northeast1\"\n",
    "RESOURCE_ID = \"gemini-pro\"\n",
    "\n",
    "vertexai.init(project=PROJECT_ID, location=LOCATION)\n",
    "\n",
    "\n",
    "def initiate_chat_session():\n",
    "    model = GenerativeModel(RESOURCE_ID)\n",
    "    chat = model.start_chat()\n",
    "    return chat\n",
    "\n",
    "\n",
    "def multiturn_generate_content(chat, user_input):\n",
    "    config = {\"max_output_tokens\": 2048, \"temperature\": 0.9, \"top_p\": 1}\n",
    "    response = chat.send_message(user_input, generation_config=config)\n",
    "    return response\n",
    "\n",
    "\n",
    "chat = initiate_chat_session()\n",
    "while True:\n",
    "    user_input = input(\">> \")\n",
    "    chat_response = multiturn_generate_content(chat, user_input)\n",
    "    print(chat_response)\n"
   ]
  }
 ],
 "metadata": {
  "kernelspec": {
   "display_name": "zenn",
   "language": "python",
   "name": "python3"
  },
  "language_info": {
   "name": "python",
   "version": "3.12.9"
  }
 },
 "nbformat": 4,
 "nbformat_minor": 2
}
