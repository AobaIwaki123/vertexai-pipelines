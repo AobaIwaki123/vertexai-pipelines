{
 "cells": [
  {
   "cell_type": "code",
   "execution_count": 1,
   "metadata": {},
   "outputs": [],
   "source": [
    "from langchain_google_vertexai import VertexAIEmbeddings\n",
    "\n",
    "PROJECT_ID = \"zennaihackason\"\n",
    "\n",
    "embedding = VertexAIEmbeddings(\n",
    "    model_name=\"textembedding-gecko-multilingual@latest\", project=PROJECT_ID\n",
    ")"
   ]
  },
  {
   "cell_type": "code",
   "execution_count": 5,
   "metadata": {},
   "outputs": [
    {
     "data": {
      "text/plain": [
       "Dataset(DatasetReference('zennaihackason', 'emb'))"
      ]
     },
     "execution_count": 5,
     "metadata": {},
     "output_type": "execute_result"
    }
   ],
   "source": [
    "from google.cloud import bigquery\n",
    "\n",
    "client = bigquery.Client(project=\"zennaihackason\")\n",
    "DATASET = \"emb\"\n",
    "client.create_dataset(dataset=DATASET, exists_ok=True)"
   ]
  },
  {
   "cell_type": "code",
   "execution_count": null,
   "metadata": {},
   "outputs": [
    {
     "name": "stderr",
     "output_type": "stream",
     "text": [
      "/tmp/ipykernel_578208/3950466754.py:6: LangChainDeprecationWarning: The class `BigQueryVectorSearch` was deprecated in LangChain 0.0.33 and will be removed in 1.0. An updated version of the class exists in the :class:`~langchain-google-community package and should be used instead. To use it run `pip install -U :class:`~langchain-google-community` and import as `from :class:`~langchain_google_community import BigQueryVectorSearch``.\n",
      "  store = BigQueryVectorSearch(\n"
     ]
    }
   ],
   "source": [
    "from langchain.vectorstores.utils import DistanceStrategy\n",
    "from langchain_community.vectorstores import BigQueryVectorSearch\n",
    "\n",
    "TABLE = \"emb\"\n",
    "\n",
    "store = BigQueryVectorSearch(\n",
    "    project_id=PROJECT_ID,\n",
    "    dataset_name=DATASET,\n",
    "    table_name=TABLE,\n",
    "    embedding=embedding,\n",
    "    distance_strategy=DistanceStrategy.COSINE,\n",
    ")\n"
   ]
  },
  {
   "cell_type": "code",
   "execution_count": 8,
   "metadata": {},
   "outputs": [
    {
     "data": {
      "text/plain": [
       "['973b04b21c2d4968bd6156aa47dca328',\n",
       " '77186a66d11840c8a51830b897301a68',\n",
       " '8c5947de57ad44ddb0ebcec11502b4a5',\n",
       " '417d90cbae344d40adb96dcb847d9e37',\n",
       " 'a2a84eba23794c23ae491a17348d6193']"
      ]
     },
     "execution_count": 8,
     "metadata": {},
     "output_type": "execute_result"
    }
   ],
   "source": [
    "all_texts = [\"Apples and oranges\", \"Cars and airplanes\", \"Pineapple\", \"Train\", \"Banana\"]\n",
    "metadatas = [{\"len\": len(t)} for t in all_texts]\n",
    "\n",
    "store.add_texts(all_texts, metadatas=metadatas)"
   ]
  },
  {
   "cell_type": "code",
   "execution_count": 19,
   "metadata": {},
   "outputs": [
    {
     "name": "stdout",
     "output_type": "stream",
     "text": [
      "content: Banana\n",
      "content: Apples and oranges\n"
     ]
    }
   ],
   "source": [
    "query = \"I'd like a fruit.\"\n",
    "docs = store.similarity_search(query, k=2)\n",
    "for doc in docs:\n",
    "    print(f\"content: {doc.page_content}\")"
   ]
  },
  {
   "cell_type": "code",
   "execution_count": null,
   "metadata": {},
   "outputs": [
    {
     "name": "stdout",
     "output_type": "stream",
     "text": [
      "content: Banana\n",
      "content: Apples and oranges\n",
      "content: Pineapple\n",
      "content: Train\n"
     ]
    }
   ],
   "source": []
  }
 ],
 "metadata": {
  "kernelspec": {
   "display_name": "zenn",
   "language": "python",
   "name": "python3"
  },
  "language_info": {
   "codemirror_mode": {
    "name": "ipython",
    "version": 3
   },
   "file_extension": ".py",
   "mimetype": "text/x-python",
   "name": "python",
   "nbconvert_exporter": "python",
   "pygments_lexer": "ipython3",
   "version": "3.12.9"
  }
 },
 "nbformat": 4,
 "nbformat_minor": 2
}
