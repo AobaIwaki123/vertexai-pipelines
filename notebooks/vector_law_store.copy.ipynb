{
 "cells": [
  {
   "cell_type": "code",
   "execution_count": 66,
   "metadata": {},
   "outputs": [],
   "source": [
    "# CONSTANTS\n",
    "PROJECT_ID = \"zennaihackason\"\n",
    "DATASET = \"law_db\"\n",
    "TABLE = \"personal_info\""
   ]
  },
  {
   "cell_type": "code",
   "execution_count": 67,
   "metadata": {},
   "outputs": [],
   "source": [
    "from langchain_google_vertexai import VertexAIEmbeddings\n",
    "\n",
    "# Embedding model\n",
    "embedding = VertexAIEmbeddings(\n",
    "    model_name=\"textembedding-gecko-multilingual@latest\", project=PROJECT_ID\n",
    ")"
   ]
  },
  {
   "cell_type": "code",
   "execution_count": 68,
   "metadata": {},
   "outputs": [],
   "source": [
    "from google.cloud import bigquery\n",
    "\n",
    "# BigQuery Client\n",
    "client = bigquery.Client(project=\"zennaihackason\")"
   ]
  },
  {
   "cell_type": "code",
   "execution_count": 69,
   "metadata": {},
   "outputs": [],
   "source": [
    "from langchain.vectorstores.utils import DistanceStrategy\n",
    "from langchain_community.vectorstores import BigQueryVectorSearch\n",
    "\n",
    "# Vector Store\n",
    "store = BigQueryVectorSearch(\n",
    "    project_id=PROJECT_ID,\n",
    "    dataset_name=DATASET,\n",
    "    table_name=TABLE,\n",
    "    embedding=embedding,\n",
    "    distance_strategy=DistanceStrategy.COSINE,\n",
    ")"
   ]
  },
  {
   "cell_type": "code",
   "execution_count": 70,
   "metadata": {},
   "outputs": [],
   "source": [
    "import os\n",
    "import re\n",
    "import requests\n",
    "import numpy as np\n",
    "from xml.etree import ElementTree\n",
    "from google.cloud import bigquery\n",
    "\n",
    "\n",
    "# ----------------------------\n",
    "# LawLoader クラス（上記のクラス定義）\n",
    "# ----------------------------\n",
    "class LawLoader(object):\n",
    "    \"\"\"\n",
    "    Prepare law data with e-Gov (https://www.e-gov.go.jp/) site.\n",
    "\n",
    "    Args:\n",
    "        category (int): category number, like 1 (all), 2 (法令), 3 (政令), 4 (省令)\n",
    "    \"\"\"\n",
    "\n",
    "    def __init__(self, category=1):\n",
    "        self.law_dict = self._get_law_dict(category=category)\n",
    "        self.content_dict = {}\n",
    "\n",
    "    @staticmethod\n",
    "    def _get_xml(url):\n",
    "        \"\"\"\n",
    "        Get XML data from e-Gov API.\n",
    "\n",
    "        Args:\n",
    "            url (str): key of the API\n",
    "\n",
    "        Returns:\n",
    "            xml.ElementTree: element tree of the XML data\n",
    "        \"\"\"\n",
    "        r = requests.get(url)\n",
    "        return ElementTree.fromstring(r.content.decode(encoding=\"utf-8\"))\n",
    "\n",
    "    def _get_law_dict(self, category):\n",
    "        \"\"\"\n",
    "        Return dictionary of law names and numbers.\n",
    "\n",
    "        Args:\n",
    "            category (int): category number, like 1 (all), 2 (法令), 3 (政令), 4 (省令)\n",
    "\n",
    "        Returns:\n",
    "            dict(str, str): dictionary of law names (keys) and numbers (values)\n",
    "        \"\"\"\n",
    "        url = f\"https://elaws.e-gov.go.jp/api/1/lawlists/{category}\"\n",
    "        root = self._get_xml(url)\n",
    "        names = [e.text for e in root.iter() if e.tag == \"LawName\"]\n",
    "        numbers = [e.text for e in root.iter() if e.tag == \"LawNo\"]\n",
    "        return {name: num for (name, num) in zip(names, numbers)}\n",
    "\n",
    "    def get_law_number(self, keyword, category=1):\n",
    "        \"\"\"\n",
    "        Return the law number.\n",
    "        This will be retrieved from e-Gov (https://www.e-gov.go.jp/)\n",
    "\n",
    "        Args:\n",
    "            keyword (str): keyword of the law name\n",
    "            category (int): category number, like 1 (all), 2 (法令), 3 (政令), 4 (省令)\n",
    "\n",
    "        Returns:\n",
    "            dict(str, str): dictionary of law name (key) and law number (value)\n",
    "        \"\"\"\n",
    "        return {k: v for (k, v) in self.law_dict.items() if keyword in k}\n",
    "\n",
    "    def get_raw(self, number):\n",
    "        \"\"\"\n",
    "        Args:\n",
    "            number (str): Number of the law, like '平成九年厚生省令第二十八号'\n",
    "\n",
    "        Returns:\n",
    "            raw (list[str]): raw contents of J-GCP\n",
    "        \"\"\"\n",
    "        if number in self.content_dict:\n",
    "            return self.content_dict[number]\n",
    "        url = f\"https://elaws.e-gov.go.jp/api/1/lawdata/{number}\"\n",
    "        root = self._get_xml(url)\n",
    "        contents = [e.text.strip() for e in root.iter() if e.text]\n",
    "        raw = [t for t in contents if t]\n",
    "        self.content_dict[number] = raw\n",
    "        return raw\n",
    "\n",
    "    @staticmethod\n",
    "    def pre_process(raw):\n",
    "        \"\"\"\n",
    "        Perform pre-processing on raw contents.\n",
    "\n",
    "        Args:\n",
    "            raw (list[str]): raw contents\n",
    "\n",
    "        Returns:\n",
    "            str: pre-processed string\n",
    "\n",
    "        Notes:\n",
    "            - Strings enclosed with （ and ） will be removed.\n",
    "            - 「 and 」 will be removed.\n",
    "        \"\"\"\n",
    "        contents = [s for s in raw if s.endswith(\"。\")]\n",
    "        string = \"\".join(contents)\n",
    "        string = string.translate(str.maketrans({\"「\": \"\", \"」\": \"\"}))\n",
    "        return re.sub(\"（[^（|^）]*）\", \"\", string)\n",
    "\n",
    "    def gcp(self):\n",
    "        \"\"\"\n",
    "        Perform pre-processing on raw contents of J-GCP.\n",
    "\n",
    "        Returns:\n",
    "            str: pre-processed string of J-GCP\n",
    "\n",
    "        Notes:\n",
    "            - Article 56 will be removed.\n",
    "            - Strings enclosed with （ and ） will be removed.\n",
    "            - 「 and 」 will be removed.\n",
    "        \"\"\"\n",
    "        number_dict = self.get_law_number(\"医薬品の臨床試験\")\n",
    "        number = number_dict[\"医薬品の臨床試験の実施の基準に関する省令\"]\n",
    "        raw = self.get_raw(number)\n",
    "        raw_without56 = raw[: raw.index(\"第五十六条\")]\n",
    "        return self.pre_process(raw_without56)"
   ]
  },
  {
   "cell_type": "code",
   "execution_count": 71,
   "metadata": {},
   "outputs": [],
   "source": [
    "loader = LawLoader()"
   ]
  },
  {
   "cell_type": "code",
   "execution_count": 72,
   "metadata": {},
   "outputs": [
    {
     "name": "stdout",
     "output_type": "stream",
     "text": [
      "25\n",
      "{'個人情報の保護に関する法律': '平成十五年法律第五十七号', '情報公開・個人情報保護審査会設置法': '平成十五年法律第六十号', '個人情報の保護に関する法律施行令': '平成十五年政令第五百七号', '情報公開・個人情報保護審査会設置法施行令': '平成十五年政令第五百五十号', '個人情報保護委員会事務局組織令': '平成二十七年政令第四百三十四号', '個人情報の保護に関する法律及び行政手続における特定の個人を識別するための番号の利用等に関する法律の一部を改正する法律の施行に伴う関係政令の整備及び経過措置に関する政令': '平成二十八年政令第三百二十四号', '情報公開・個人情報保護審査会事務局組織規則': '平成十七年内閣府令第二十七号', '個人情報の保護に関する法律施行令第二十六条第三項第一号及び第二十九条第三項第一号に掲げる行政機関等が保有する保有個人情報に係る開示請求及び行政機関等匿名加工情報の利用の手続に関する省令': '平成二十五年経済産業省令第十四号', '行政手続における特定の個人を識別するための番号の利用等に関する法律に規定する個人番号、個人番号カード、特定個人情報の提供等に関する命令': '平成二十六年総務省令第八十五号', '個人情報保護委員会事務局組織規則': '平成二十七年内閣府令第七十五号', '行政手続における特定の個人を識別するための番号の利用等に関する法律第十九条第八号に基づく利用特定個人情報の提供に関する命令': '令和六年デジタル庁・総務省令第九号', '会計検査院情報公開・個人情報保護審査会規則': '平成十三年会計検査院規則第三号', '国家公安委員会個人情報管理規則': '平成十七年国家公安委員会規則第五号', '会計検査院の保有する個人情報の保護に関する権限又は事務の委任に関する規則': '平成十七年会計検査院規則第五号', '特定個人情報保護評価に関する規則': '平成二十六年特定個人情報保護委員会規則第一号', '個人情報保護委員会の所管する法令に係る情報通信技術を活用した行政の推進等に関する法律施行規則': '平成二十六年特定個人情報保護委員会規則第二号', '行政手続における特定の個人を識別するための番号の利用等に関する法律第十九条第十七号に基づき同条第十五号に準ずるものとして定める特定個人情報の提供に関する規則': '平成二十七年特定個人情報保護委員会規則第一号', '個人情報の保護に関する法律及び行政手続における特定の個人を識別するための番号の利用等に関する法律の各規定に基づく立入検査をする職員の携帯する身分を示す証明書の様式を定める規則': '平成二十七年特定個人情報保護委員会規則第二号', '行政手続における特定の個人を識別するための番号の利用等に関する法律第二十九条の四第一項及び第二項に基づく特定個人情報の漏えい等に関する報告等に関する規則': '平成二十七年特定個人情報保護委員会規則第五号', '特定個人情報の取扱いの状況に係る行政機関等に対する定期的な検査に関する規則': '平成二十八年個人情報保護委員会規則第二号', '個人情報の保護に関する法律施行規則': '平成二十八年個人情報保護委員会規則第三号', '特定個人情報の取扱いの状況に係る地方公共団体等による定期的な報告に関する規則': '平成二十八年個人情報保護委員会規則第四号', '行政手続における特定の個人を識別するための番号の利用等に関する法律第十九条第九号に基づく利用特定個人情報の提供に関する規則': '平成二十八年個人情報保護委員会規則第五号', '行政手続における特定の個人を識別するための番号の利用等に関する法律第十九条第九号の規定により提供することができる利用特定個人情報の範囲の限定に関する規則': '平成二十八年個人情報保護委員会規則第六号', '人事院規則二―一五（人事院の職員に対する個人情報の取扱いに係る権限又は事務の委任）': '令和四年人事院規則二―一五'}\n"
     ]
    }
   ],
   "source": [
    "law_numbers = loader.get_law_number(\"個人情報\")\n",
    "print(len(law_numbers))\n",
    "print(law_numbers)"
   ]
  },
  {
   "cell_type": "code",
   "execution_count": 73,
   "metadata": {},
   "outputs": [
    {
     "name": "stderr",
     "output_type": "stream",
     "text": [
      "100%|██████████| 25/25 [01:04<00:00,  2.59s/it]\n"
     ]
    }
   ],
   "source": [
    "from tqdm import tqdm \n",
    "\n",
    "pre_processed_texts = []\n",
    "metadatas = []\n",
    "for law_name, law_number in tqdm(law_numbers.items()):\n",
    "    raw = loader.get_raw(law_number)\n",
    "    pre_processed = loader.pre_process(raw)\n",
    "    \n",
    "    metadata = {\"law_name\": law_name, \"law_number\": law_number}\n",
    "\n",
    "    pre_processed_texts.append(pre_processed)\n",
    "    metadatas.append(metadata)"
   ]
  },
  {
   "cell_type": "code",
   "execution_count": 74,
   "metadata": {},
   "outputs": [
    {
     "data": {
      "text/plain": [
       "['7ebaf8100d1d4f9faf20e7e5565256f7',\n",
       " '4fdd0668e2ed4b8381d11f1908242262',\n",
       " 'd1b79690edd445a78dea2db1699c9e7c',\n",
       " '15865c57ad1840bb90bcee8326438d06',\n",
       " '634ae6ee7d704a2bb88c3428a2be25bb',\n",
       " '6ba0980ae461499da6594f6e10280fc7',\n",
       " '41da32d939d34ac6a45a82f094a24c07',\n",
       " '249ce244a09b4408a89e86f74134d336',\n",
       " '4dd15a1285d543c58680492ec15cfb48',\n",
       " '682b3d64ab9240aea15b510e3676bf7b',\n",
       " '07d50110918249faa7b5236f9e7ec6ce',\n",
       " '74d529c8fe364b358f0ba81f01ffa35c',\n",
       " 'f7b8aeca8d0e4f159fea378c838ee310',\n",
       " '100e48586abb4e4a8ceafe3e583afc85',\n",
       " '7743ce6f58ef44acbdc0b2322b186cbf',\n",
       " '5ec94d10a47f4727ab781ec5fd94d91c',\n",
       " '71e35eb8f0924c9dbe62d8520f3cc90c',\n",
       " 'd54bbd4276d141779389a12e3d8910a3',\n",
       " 'b5c06547bb734595a639aa8f729f5c59',\n",
       " '1f95e8a38981419e876b5a90063c7d46',\n",
       " '2b0cedfd037342d182310c55f20453e3',\n",
       " 'df5f5e50f8c440e680651092cdc04b60',\n",
       " '2f1322f1e71a4daaa1499b48d7beaf7d',\n",
       " '3b29adfee5a946bdbfc293cf79195c3d',\n",
       " '34d0437fe03145f585025be3c56ee289']"
      ]
     },
     "execution_count": 74,
     "metadata": {},
     "output_type": "execute_result"
    }
   ],
   "source": [
    "# Insert into BigQuery\n",
    "# print(metadatas)\n",
    "store.add_texts(pre_processed_texts, metadatas)"
   ]
  },
  {
   "cell_type": "code",
   "execution_count": 82,
   "metadata": {},
   "outputs": [],
   "source": [
    "query = \"個人情報保護の適用範囲について\"\n",
    "docs = store.similarity_search(query, k=5)"
   ]
  },
  {
   "cell_type": "code",
   "execution_count": 84,
   "metadata": {},
   "outputs": [
    {
     "name": "stdout",
     "output_type": "stream",
     "text": [
      "976\n",
      "\n",
      "\n",
      "1505\n",
      "\n",
      "\n",
      "1049\n",
      "\n",
      "\n",
      "321\n",
      "\n",
      "\n",
      "1247\n",
      "\n",
      "\n"
     ]
    }
   ],
   "source": [
    "from pprint import pprint\n",
    "\n",
    "for doc in docs:\n",
    "    pprint(len(doc.page_content))\n",
    "    print(\"\\n\")"
   ]
  }
 ],
 "metadata": {
  "kernelspec": {
   "display_name": "zenn",
   "language": "python",
   "name": "python3"
  },
  "language_info": {
   "codemirror_mode": {
    "name": "ipython",
    "version": 3
   },
   "file_extension": ".py",
   "mimetype": "text/x-python",
   "name": "python",
   "nbconvert_exporter": "python",
   "pygments_lexer": "ipython3",
   "version": "3.12.9"
  }
 },
 "nbformat": 4,
 "nbformat_minor": 2
}
